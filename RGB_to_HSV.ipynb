{
  "nbformat": 4,
  "nbformat_minor": 0,
  "metadata": {
    "colab": {
      "provenance": []
    },
    "kernelspec": {
      "name": "python3",
      "display_name": "Python 3"
    },
    "language_info": {
      "name": "python"
    }
  },
  "cells": [
    {
      "cell_type": "code",
      "execution_count": null,
      "metadata": {
        "id": "51CudMhyjPcE"
      },
      "outputs": [],
      "source": [
        "import cv2\n",
        "\n",
        "# Read the image - Notice that OpenCV reads the images as BRG instead of RGB\n",
        "img = cv2.imread(\"/content/image.jpeg\")"
      ]
    },
    {
      "cell_type": "code",
      "source": [
        "# Convert the BRG image to RGB\n",
        "img = cv2.cvtColor(img, cv2.COLOR_BGR2RGB)"
      ],
      "metadata": {
        "id": "DSg2pZ71xW1r"
      },
      "execution_count": null,
      "outputs": []
    },
    {
      "cell_type": "code",
      "source": [
        "# Convert the RGB image to HSV\n",
        "img = cv2.cvtColor(img, cv2.COLOR_RGB2HSV)\n",
        "img"
      ],
      "metadata": {
        "colab": {
          "base_uri": "https://localhost:8080/"
        },
        "id": "3tXf1FM2xY54",
        "outputId": "8224f886-f3b6-49b8-833c-d63ea09fb9fc"
      },
      "execution_count": null,
      "outputs": [
        {
          "output_type": "execute_result",
          "data": {
            "text/plain": [
              "array([[[ 28,  64, 252],\n",
              "        [ 29,  59, 247],\n",
              "        [ 35,  55, 247],\n",
              "        ...,\n",
              "        [ 31,  50, 249],\n",
              "        [ 31,  50, 248],\n",
              "        [ 30,  52, 247]],\n",
              "\n",
              "       [[ 34,  65, 249],\n",
              "        [ 35,  61, 252],\n",
              "        [ 37,  54, 254],\n",
              "        ...,\n",
              "        [ 31,  50, 248],\n",
              "        [ 31,  52, 247],\n",
              "        [ 30,  52, 247]],\n",
              "\n",
              "       [[ 43,  70, 254],\n",
              "        [ 42,  62, 255],\n",
              "        [ 39,  52, 255],\n",
              "        ...,\n",
              "        [ 30,  52, 247],\n",
              "        [ 30,  52, 247],\n",
              "        [ 30,  52, 246]],\n",
              "\n",
              "       ...,\n",
              "\n",
              "       [[ 52, 255, 139],\n",
              "        [ 50, 204, 186],\n",
              "        [ 53, 255, 118],\n",
              "        ...,\n",
              "        [ 50, 208, 174],\n",
              "        [ 50, 222, 163],\n",
              "        [ 48, 244, 169]],\n",
              "\n",
              "       [[ 53, 255, 132],\n",
              "        [ 49, 195, 199],\n",
              "        [ 53, 255, 112],\n",
              "        ...,\n",
              "        [ 51, 242, 154],\n",
              "        [ 50, 221, 174],\n",
              "        [ 48, 232, 190]],\n",
              "\n",
              "       [[ 49, 255, 154],\n",
              "        [ 49, 217, 179],\n",
              "        [ 58, 255,  90],\n",
              "        ...,\n",
              "        [ 60, 255,  99],\n",
              "        [ 50, 235, 167],\n",
              "        [ 48, 255, 175]]], dtype=uint8)"
            ]
          },
          "metadata": {},
          "execution_count": 6
        }
      ]
    }
  ]
}